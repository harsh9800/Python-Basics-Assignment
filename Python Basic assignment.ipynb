{
 "cells": [
  {
   "cell_type": "code",
   "execution_count": 1,
   "id": "dbed3651-1fe0-4712-a4d5-d400af331300",
   "metadata": {},
   "outputs": [],
   "source": [
    "'''1. Declare two variables, `x` and `y`, and assign them integer values. Swap the\n",
    "#values of these variables without using any temporary variable.'''"
   ]
  },
  {
   "cell_type": "code",
   "execution_count": 1,
   "id": "47cce26e-58c3-4a06-ad5c-73fa8f69fe6a",
   "metadata": {},
   "outputs": [
    {
     "name": "stdout",
     "output_type": "stream",
     "text": [
      "The value of x: 10 The value of y: 5\n"
     ]
    }
   ],
   "source": [
    "x=5\n",
    "y=10\n",
    "x,y=y,x\n",
    "print(\"The value of x:\",x,\"The value of y:\", y)"
   ]
  },
  {
   "cell_type": "code",
   "execution_count": null,
   "id": "d4c41d55-02c0-439f-a37c-01e99ca84e0f",
   "metadata": {},
   "outputs": [],
   "source": [
    "'''2. Create a program that calculates the area of a rectangle. Take the length and\n",
    "width as inputs from the user and store them in variables. Calculate and\n",
    "display the area.'''"
   ]
  },
  {
   "cell_type": "code",
   "execution_count": 2,
   "id": "d739bd69-0d05-46f0-8b0e-1c7d27572415",
   "metadata": {},
   "outputs": [
    {
     "name": "stdin",
     "output_type": "stream",
     "text": [
      "Enter the value of Length 5\n",
      "Enter the value of Width 2\n"
     ]
    },
    {
     "name": "stdout",
     "output_type": "stream",
     "text": [
      "Area of rectangle is  10\n"
     ]
    }
   ],
   "source": [
    "Length=int(input(\"Enter the value of Length\"))\n",
    "Width=int(input(\"Enter the value of Width\"))\n",
    "Area= Length*Width\n",
    "print(\"Area of rectangle is \",Area)"
   ]
  },
  {
   "cell_type": "code",
   "execution_count": 16,
   "id": "da0f7a66-7abc-46ee-b028-d7b1b5be2012",
   "metadata": {},
   "outputs": [
    {
     "data": {
      "text/plain": [
       "'3.Write a Python program that converts temperatures from Celsius to\\nFahrenheit. Take the temperature in Celsius as input, store it in a variable,\\nconvert it to Fahrenheit, and display the result.'"
      ]
     },
     "execution_count": 16,
     "metadata": {},
     "output_type": "execute_result"
    }
   ],
   "source": [
    "'''3.Write a Python program that converts temperatures from Celsius to\n",
    "Fahrenheit. Take the temperature in Celsius as input, store it in a variable,\n",
    "convert it to Fahrenheit, and display the result.'''"
   ]
  },
  {
   "cell_type": "code",
   "execution_count": 12,
   "id": "1dcc4222-9165-4fdc-a031-89d133a398dc",
   "metadata": {},
   "outputs": [
    {
     "name": "stdin",
     "output_type": "stream",
     "text": [
      "Enter temprature in celcius:  20\n"
     ]
    },
    {
     "name": "stdout",
     "output_type": "stream",
     "text": [
      "Temprature in farenheit is:  68.0\n"
     ]
    }
   ],
   "source": [
    "temprature=int(input(\"Enter temprature in celcius: \"))\n",
    "Celcius= temprature\n",
    "f=Celcius*(9/5)+32\n",
    "print(\"Temprature in farenheit is: \",f)"
   ]
  },
  {
   "cell_type": "code",
   "execution_count": 15,
   "id": "71ffb3e8-ecce-4b06-8ec6-fd7b66aa610d",
   "metadata": {},
   "outputs": [
    {
     "data": {
      "text/plain": [
       "'4.Write a Python program that takes a string as input and prints the length of\\nthe string.'"
      ]
     },
     "execution_count": 15,
     "metadata": {},
     "output_type": "execute_result"
    }
   ],
   "source": [
    "'''4.Write a Python program that takes a string as input and prints the length of\n",
    "the string.'''"
   ]
  },
  {
   "cell_type": "code",
   "execution_count": 7,
   "id": "49e54d46-abc3-4d65-87a4-d0d4f2ecb430",
   "metadata": {},
   "outputs": [
    {
     "name": "stdin",
     "output_type": "stream",
     "text": [
      "What is your name? harsh\n"
     ]
    },
    {
     "data": {
      "text/plain": [
       "5"
      ]
     },
     "execution_count": 7,
     "metadata": {},
     "output_type": "execute_result"
    }
   ],
   "source": [
    "a=input(\"What is your name?\" )\n",
    "len(a)"
   ]
  },
  {
   "cell_type": "code",
   "execution_count": 8,
   "id": "4f7b1654-32fb-45c7-8663-9ed6eec6b6c4",
   "metadata": {},
   "outputs": [
    {
     "data": {
      "text/plain": [
       "'Create a program that takes a sentence from the user and counts the number\\nof vowels (a, e, i, o, u) in the string.'"
      ]
     },
     "execution_count": 8,
     "metadata": {},
     "output_type": "execute_result"
    }
   ],
   "source": [
    "'''5.Create a program that takes a sentence from the user and counts the number\n",
    "of vowels (a, e, i, o, u) in the string.'''"
   ]
  },
  {
   "cell_type": "code",
   "execution_count": 9,
   "id": "98e5fc2e-a55a-40ab-9bce-3a4d4a54c066",
   "metadata": {},
   "outputs": [
    {
     "name": "stdin",
     "output_type": "stream",
     "text": [
      "Write a sentance  j\n"
     ]
    }
   ],
   "source": [
    "Sentance=input(\"Write a sentance \")\n",
    "#can't solve"
   ]
  },
  {
   "cell_type": "code",
   "execution_count": null,
   "id": "3c51ffaa-b639-4de1-bd50-322bc5f00c86",
   "metadata": {},
   "outputs": [],
   "source": [
    "'''Given a string, reverse the order of characters using string slicing and print\n",
    "the reversed string.'''"
   ]
  },
  {
   "cell_type": "code",
   "execution_count": 7,
   "id": "2b7b2056-88ee-44dd-8f84-8791d6135ef8",
   "metadata": {},
   "outputs": [
    {
     "name": "stdin",
     "output_type": "stream",
     "text": [
      "write a string Ashutosh\n"
     ]
    },
    {
     "name": "stdout",
     "output_type": "stream",
     "text": [
      "hsotuhsA\n"
     ]
    }
   ],
   "source": [
    "a=input(\"write a string\")\n",
    "print(a[-1::-1])"
   ]
  },
  {
   "cell_type": "code",
   "execution_count": null,
   "id": "1b816973-5035-4b73-bac3-721c8ddcc93c",
   "metadata": {},
   "outputs": [],
   "source": [
    "'''Write a program that takes a string as input and checks if it is a palindrome\n",
    "(reads the same forwards and backwards).'''"
   ]
  },
  {
   "cell_type": "code",
   "execution_count": 8,
   "id": "1fa15046-5b41-4968-ab05-5572cde1d14a",
   "metadata": {},
   "outputs": [],
   "source": [
    "#can't solve"
   ]
  },
  {
   "cell_type": "code",
   "execution_count": null,
   "id": "682a1ed0-da69-4fe4-9a11-1f23bf3d2e41",
   "metadata": {},
   "outputs": [],
   "source": [
    "'''Create a program that takes a string as input and removes all the spaces from\n",
    "it. Print the modified string without spaces.'''"
   ]
  },
  {
   "cell_type": "code",
   "execution_count": 17,
   "id": "f8dc80b9-cbc0-4343-9812-1d7648de0bee",
   "metadata": {},
   "outputs": [
    {
     "name": "stdin",
     "output_type": "stream",
     "text": [
      "write a string: H A R S H\n"
     ]
    },
    {
     "name": "stdout",
     "output_type": "stream",
     "text": [
      "HARSH\n"
     ]
    }
   ],
   "source": [
    "a=input(\"write a string:\")\n",
    "print(a[0:9:2])\n"
   ]
  },
  {
   "cell_type": "code",
   "execution_count": null,
   "id": "363a6acd-fe32-4b75-b3c8-ad0706a8189e",
   "metadata": {},
   "outputs": [],
   "source": []
  }
 ],
 "metadata": {
  "kernelspec": {
   "display_name": "Python 3 (ipykernel)",
   "language": "python",
   "name": "python3"
  },
  "language_info": {
   "codemirror_mode": {
    "name": "ipython",
    "version": 3
   },
   "file_extension": ".py",
   "mimetype": "text/x-python",
   "name": "python",
   "nbconvert_exporter": "python",
   "pygments_lexer": "ipython3",
   "version": "3.10.8"
  }
 },
 "nbformat": 4,
 "nbformat_minor": 5
}
